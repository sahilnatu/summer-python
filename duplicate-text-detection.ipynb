{
 "cells": [
  {
   "cell_type": "code",
   "execution_count": 1,
   "id": "24b54504",
   "metadata": {},
   "outputs": [
    {
     "name": "stdout",
     "output_type": "stream",
     "text": [
      "Tweet 3 is similar to Tweet 1 (cosine = 0.88 )\n",
      "Tweet 3 :\n",
      " RT @BuyBookstore: SPECIAL SECRET HEARTS: A Child's Introduction to Dementia and Pink Curls - A Santa ... - http://t.co/UWCdc8FA9a http://t.Â…\n",
      "Tweet 1 :\n",
      " SPECIAL SECRET HEARTS: A Child's Introduction to Dementia and Pink Curls - A Santa ... - http://t.co/UWCdc8FA9a http://t.co/meexKLGTKl\n",
      "\n",
      "\n",
      "Tweet 4 is similar to Tweet 2 (cosine = 0.63 )\n",
      "Tweet 4 :\n",
      " \"RT @DrewFtDevonne_: Rt si te gusta Santa Claus Is Coming To Town #MTVHottest Justin Bieber\"\n",
      "Tweet 2 :\n",
      " \"Santa Claus Is Coming To Town #MTVHottest Justin Bieber\"\n",
      "\n",
      "\n",
      "Tweet 5 is similar to Tweet 2 (cosine = 0.68 )\n",
      "Tweet 5 :\n",
      " \"Rt si te gusta Santa Claus Is Coming To Town #MTVHottest Justin Bieber\"\n",
      "Tweet 2 :\n",
      " \"Santa Claus Is Coming To Town #MTVHottest Justin Bieber\"\n",
      "\n",
      "\n",
      "Tweet 5 is similar to Tweet 4 (cosine = 0.84 )\n",
      "Tweet 5 :\n",
      " \"Rt si te gusta Santa Claus Is Coming To Town #MTVHottest Justin Bieber\"\n",
      "Tweet 4 :\n",
      " \"RT @DrewFtDevonne_: Rt si te gusta Santa Claus Is Coming To Town #MTVHottest Justin Bieber\"\n",
      "\n",
      "\n"
     ]
    }
   ],
   "source": [
    "'''\n",
    "Near-duplicate Detection\n",
    "\n",
    "'''\n",
    "import math\n",
    "\n",
    "def moving_window(tweet):\n",
    "    '''\n",
    "    Returns a dictionary of 3-word phrases in a tweet\n",
    "    '''\n",
    "    words = tweet.split(\" \")\n",
    "    dict = {}\n",
    "    for i in range(len(words)-2):\n",
    "        dict[words[i]+\" \"+words[i+1]+\" \"+words[i+2]]=1\n",
    "    return dict\n",
    "\n",
    "def cosine(dict1,dict2):\n",
    "    '''\n",
    "    Returns cosine similarity between phrases in 2 dictionaries\n",
    "    '''\n",
    "    n1 = len(dict1)\n",
    "    n2 = len(dict2)\n",
    "    matches = 0\n",
    "    for key1 in dict1:\n",
    "        for key2 in dict2:\n",
    "            if key1 == key2:\n",
    "                matches += 1\n",
    "    return matches/math.sqrt(n1*n2)\n",
    "\n",
    "fp = open(\"Santa.txt\", \"r\")\n",
    "text = fp.read()\n",
    "fp.close()\n",
    "tweets = text.split(\"\\n\")\n",
    "dict_list = []\n",
    "similarity_matrix = []\n",
    "\n",
    "for i in range(len(tweets)-1):\n",
    "    dict_list = dict_list + [moving_window(tweets[i])]\n",
    "    similarity_matrix.append([0,0,0,0,0])\n",
    "    for j in range(len(tweets)-1):\n",
    "        if j < i:\n",
    "            similarity_matrix[i][j] = cosine(dict_list[i],dict_list[j])\n",
    "            if similarity_matrix[i][j] > 0.5:\n",
    "                print(\"Tweet\",i+1,\"is similar to Tweet\",j+1,\"(cosine =\",round(similarity_matrix[i][j],2),\")\")\n",
    "                print(\"Tweet\",i+1,\":\\n\",tweets[i])\n",
    "                print(\"Tweet\",j+1,\":\\n\",tweets[j])\n",
    "                print(\"\\n\")\n",
    "        else:\n",
    "            similarity_matrix[i][j] = 0"
   ]
  }
 ],
 "metadata": {
  "kernelspec": {
   "display_name": "Python 3",
   "language": "python",
   "name": "python3"
  },
  "language_info": {
   "codemirror_mode": {
    "name": "ipython",
    "version": 3
   },
   "file_extension": ".py",
   "mimetype": "text/x-python",
   "name": "python",
   "nbconvert_exporter": "python",
   "pygments_lexer": "ipython3",
   "version": "3.8.8"
  }
 },
 "nbformat": 4,
 "nbformat_minor": 5
}
